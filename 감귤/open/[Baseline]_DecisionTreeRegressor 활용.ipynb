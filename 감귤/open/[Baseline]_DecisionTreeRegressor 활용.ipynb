{
 "cells": [
  {
   "cell_type": "markdown",
   "id": "bcec18d6-e27d-4677-a580-d32ad364d1df",
   "metadata": {},
   "source": [
    "## Import"
   ]
  },
  {
   "cell_type": "code",
   "execution_count": 1,
   "id": "8114a40c-6068-4305-8e69-3a0a83f3f803",
   "metadata": {},
   "outputs": [],
   "source": [
    "import pandas as pd\n",
    "import numpy as np"
   ]
  },
  {
   "cell_type": "markdown",
   "id": "61e94f48-388f-4657-8678-3f4e77ea5612",
   "metadata": {},
   "source": [
    "## 데이터 불러오기"
   ]
  },
  {
   "cell_type": "code",
   "execution_count": 2,
   "id": "8e6f3ea2-fbcf-4ba4-a04a-c053b6036b2f",
   "metadata": {},
   "outputs": [],
   "source": [
    "train = pd.read_csv('./train.csv')\n",
    "test = pd.read_csv('./test.csv')"
   ]
  },
  {
   "cell_type": "markdown",
   "id": "22c57b1e-0b69-41d1-a798-39d301af3a2a",
   "metadata": {},
   "source": [
    "## 입력 Feature 와 Target(착과량) 분할"
   ]
  },
  {
   "cell_type": "code",
   "execution_count": 3,
   "id": "4ebf1883-ce8d-4dd7-9aca-3482314838cb",
   "metadata": {},
   "outputs": [],
   "source": [
    "X_train = train.drop(['ID','착과량(int)'], axis=1)\n",
    "y_train = train['착과량(int)']"
   ]
  },
  {
   "cell_type": "markdown",
   "id": "103d1568-2df9-4e21-a6b0-e57dbc32e3de",
   "metadata": {},
   "source": [
    "## 모델 선언 및 학습"
   ]
  },
  {
   "cell_type": "code",
   "execution_count": 4,
   "id": "789552a4-867d-4083-82b1-02603b8751ab",
   "metadata": {},
   "outputs": [],
   "source": [
    "# from sklearn.tree import DecisionTreeRegressor\n",
    "\n",
    "# model = DecisionTreeRegressor()\n",
    "\n",
    "# model.fit(X_train, y_train)"
   ]
  },
  {
   "cell_type": "code",
   "execution_count": 5,
   "id": "53d31ada",
   "metadata": {},
   "outputs": [
    {
     "data": {
      "text/plain": [
       "RandomForestRegressor(max_depth=75, max_leaf_nodes=272, min_samples_leaf=14,\n",
       "                      min_samples_split=17, n_estimators=85)"
      ]
     },
     "execution_count": 5,
     "metadata": {},
     "output_type": "execute_result"
    }
   ],
   "source": [
    "from sklearn.ensemble import RandomForestRegressor\n",
    "model = RandomForestRegressor(n_estimators=85, max_depth=75, min_samples_split=17, min_samples_leaf=14,  max_leaf_nodes=272)\n",
    "model.fit(X_train, y_train)"
   ]
  },
  {
   "cell_type": "markdown",
   "id": "3ec335f3-45df-4dbe-82fb-2b26ff7678f4",
   "metadata": {},
   "source": [
    "## 추론"
   ]
  },
  {
   "cell_type": "code",
   "execution_count": 6,
   "id": "541b13d2-72a2-4070-a506-045668bab5c8",
   "metadata": {},
   "outputs": [],
   "source": [
    "pred = model.predict(test.drop(['ID'], axis=1))"
   ]
  },
  {
   "cell_type": "markdown",
   "id": "c300bfd6-94e8-415b-a5ea-ca890407057d",
   "metadata": {},
   "source": [
    "## Submission"
   ]
  },
  {
   "cell_type": "code",
   "execution_count": 7,
   "id": "d79806cf-826c-47d7-a6f7-b7238c8c4a64",
   "metadata": {},
   "outputs": [],
   "source": [
    "sample_submission = pd.read_csv('./sample_submission.csv')"
   ]
  },
  {
   "cell_type": "code",
   "execution_count": 8,
   "id": "b154aaac-5c62-49c7-8b62-fb3b042bc42b",
   "metadata": {},
   "outputs": [],
   "source": [
    "sample_submission['착과량(int)'] = pred\n",
    "sample_submission.to_csv('./submit.csv', index=False)"
   ]
  },
  {
   "cell_type": "code",
   "execution_count": 9,
   "id": "c4c2daa8-0933-4271-8b86-036096af2bb4",
   "metadata": {},
   "outputs": [
    {
     "data": {
      "text/html": [
       "<div>\n",
       "<style scoped>\n",
       "    .dataframe tbody tr th:only-of-type {\n",
       "        vertical-align: middle;\n",
       "    }\n",
       "\n",
       "    .dataframe tbody tr th {\n",
       "        vertical-align: top;\n",
       "    }\n",
       "\n",
       "    .dataframe thead th {\n",
       "        text-align: right;\n",
       "    }\n",
       "</style>\n",
       "<table border=\"1\" class=\"dataframe\">\n",
       "  <thead>\n",
       "    <tr style=\"text-align: right;\">\n",
       "      <th></th>\n",
       "      <th>ID</th>\n",
       "      <th>착과량(int)</th>\n",
       "    </tr>\n",
       "  </thead>\n",
       "  <tbody>\n",
       "    <tr>\n",
       "      <th>0</th>\n",
       "      <td>TEST_0000</td>\n",
       "      <td>243.637614</td>\n",
       "    </tr>\n",
       "    <tr>\n",
       "      <th>1</th>\n",
       "      <td>TEST_0001</td>\n",
       "      <td>750.962068</td>\n",
       "    </tr>\n",
       "    <tr>\n",
       "      <th>2</th>\n",
       "      <td>TEST_0002</td>\n",
       "      <td>150.279358</td>\n",
       "    </tr>\n",
       "    <tr>\n",
       "      <th>3</th>\n",
       "      <td>TEST_0003</td>\n",
       "      <td>446.027059</td>\n",
       "    </tr>\n",
       "    <tr>\n",
       "      <th>4</th>\n",
       "      <td>TEST_0004</td>\n",
       "      <td>680.021268</td>\n",
       "    </tr>\n",
       "    <tr>\n",
       "      <th>...</th>\n",
       "      <td>...</td>\n",
       "      <td>...</td>\n",
       "    </tr>\n",
       "    <tr>\n",
       "      <th>2203</th>\n",
       "      <td>TEST_2203</td>\n",
       "      <td>757.190835</td>\n",
       "    </tr>\n",
       "    <tr>\n",
       "      <th>2204</th>\n",
       "      <td>TEST_2204</td>\n",
       "      <td>330.626224</td>\n",
       "    </tr>\n",
       "    <tr>\n",
       "      <th>2205</th>\n",
       "      <td>TEST_2205</td>\n",
       "      <td>373.075231</td>\n",
       "    </tr>\n",
       "    <tr>\n",
       "      <th>2206</th>\n",
       "      <td>TEST_2206</td>\n",
       "      <td>244.899832</td>\n",
       "    </tr>\n",
       "    <tr>\n",
       "      <th>2207</th>\n",
       "      <td>TEST_2207</td>\n",
       "      <td>92.746639</td>\n",
       "    </tr>\n",
       "  </tbody>\n",
       "</table>\n",
       "<p>2208 rows × 2 columns</p>\n",
       "</div>"
      ],
      "text/plain": [
       "             ID    착과량(int)\n",
       "0     TEST_0000  243.637614\n",
       "1     TEST_0001  750.962068\n",
       "2     TEST_0002  150.279358\n",
       "3     TEST_0003  446.027059\n",
       "4     TEST_0004  680.021268\n",
       "...         ...         ...\n",
       "2203  TEST_2203  757.190835\n",
       "2204  TEST_2204  330.626224\n",
       "2205  TEST_2205  373.075231\n",
       "2206  TEST_2206  244.899832\n",
       "2207  TEST_2207   92.746639\n",
       "\n",
       "[2208 rows x 2 columns]"
      ]
     },
     "execution_count": 9,
     "metadata": {},
     "output_type": "execute_result"
    }
   ],
   "source": [
    "sample_submission"
   ]
  }
 ],
 "metadata": {
  "kernelspec": {
   "display_name": "base",
   "language": "python",
   "name": "python3"
  },
  "language_info": {
   "codemirror_mode": {
    "name": "ipython",
    "version": 3
   },
   "file_extension": ".py",
   "mimetype": "text/x-python",
   "name": "python",
   "nbconvert_exporter": "python",
   "pygments_lexer": "ipython3",
   "version": "3.9.13"
  },
  "vscode": {
   "interpreter": {
    "hash": "ad2bdc8ecc057115af97d19610ffacc2b4e99fae6737bb82f5d7fb13d2f2c186"
   }
  }
 },
 "nbformat": 4,
 "nbformat_minor": 5
}
